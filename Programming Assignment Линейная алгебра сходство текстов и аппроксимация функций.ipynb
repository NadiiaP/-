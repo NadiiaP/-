{
 "cells": [
  {
   "cell_type": "markdown",
   "metadata": {},
   "source": [
    "### Задача 1: сравнение предложений"
   ]
  },
  {
   "cell_type": "markdown",
   "metadata": {},
   "source": [
    "Загружаем и читаем данные."
   ]
  },
  {
   "cell_type": "code",
   "execution_count": 3,
   "metadata": {},
   "outputs": [
    {
     "data": {
      "text/plain": [
       "['In comparison to dogs, cats have not undergone major changes during the domestication process.',\n",
       " 'As cat simply catenates streams of bytes, it can be also used to concatenate binary files, where it will just concatenate sequence of bytes.',\n",
       " 'A common interactive use of cat for a single file is to output the content of a file to standard output.',\n",
       " 'Cats can hear sounds too faint or too high in frequency for human ears, such as those made by mice and other small animals.',\n",
       " 'In one, people deliberately tamed cats in a process of artificial selection, as they were useful predators of vermin.',\n",
       " 'The domesticated cat and its closest wild ancestor are both diploid organisms that possess 38 chromosomes and roughly 20,000 genes.',\n",
       " 'Domestic cats are similar in size to the other members of the genus Felis, typically weighing between 4 and 5 kg (8.8 and 11.0 lb).',\n",
       " 'However, if the output is piped or redirected, cat is unnecessary.',\n",
       " 'cat with one named file is safer where human error is a concern - one wrong use of the default redirection symbol \">\" instead of \"<\" (often adjacent on keyboards) may permanently delete the file you were just needing to read.',\n",
       " 'In terms of legibility, a sequence of commands starting with cat and connected by pipes has a clear left-to-right flow of information.',\n",
       " 'Cat command is one of the basic commands that you learned when you started in the Unix / Linux world.',\n",
       " 'Using cat command, the lines received from stdin can be redirected to a new file using redirection symbols.',\n",
       " 'When you type simply cat command without any arguments, it just receives the stdin content and displays it in the stdout.',\n",
       " 'Leopard was released on October 26, 2007 as the successor of Tiger (version 10.4), and is available in two editions.',\n",
       " 'According to Apple, Leopard contains over 300 changes and enhancements over its predecessor, Mac OS X Tiger.',\n",
       " 'As of Mid 2010, some Apple computers have firmware factory installed which will no longer allow installation of Mac OS X Leopard.',\n",
       " 'Since Apple moved to using Intel processors in their computers, the OSx86 community has developed and now also allows Mac OS X Tiger and later releases to be installed on non-Apple x86-based computers.',\n",
       " \"OS X Mountain Lion was released on July 25, 2012 for purchase and download through Apple's Mac App Store, as part of a switch to releasing OS X versions online and every year.\",\n",
       " 'Apple has released a small patch for the three most recent versions of Safari running on OS X Yosemite, Mavericks, and Mountain Lion.',\n",
       " 'The Mountain Lion release marks the second time Apple has offered an incremental upgrade, rather than releasing a new cat entirely.',\n",
       " \"Mac OS X Mountain Lion installs in place, so you won't need to create a separate disk or run the installation off an external drive.\",\n",
       " \"The fifth major update to Mac OS X, Leopard, contains such a mountain of features - more than 300 by Apple's count.\"]"
      ]
     },
     "execution_count": 3,
     "metadata": {},
     "output_type": "execute_result"
    }
   ],
   "source": [
    "with open(r'C:\\Users\\Yello\\Downloads\\MIPT\\_3a8d746cf4d86fba2f31586f239d11fd_sentences.txt') as f:\n",
    "    data = f.readlines()\n",
    "# you may also want to remove whitespace characters like `\\n` at the end of each line\n",
    "data = [x.strip() for x in data] \n",
    "data"
   ]
  },
  {
   "cell_type": "markdown",
   "metadata": {},
   "source": [
    "Приводим предложения к нижнему регистру."
   ]
  },
  {
   "cell_type": "code",
   "execution_count": 4,
   "metadata": {},
   "outputs": [],
   "source": [
    "data2 = [i.lower() for i in data]"
   ]
  },
  {
   "cell_type": "markdown",
   "metadata": {},
   "source": [
    "Производим токенизацию и убираем пустые слова после разделения."
   ]
  },
  {
   "cell_type": "code",
   "execution_count": 5,
   "metadata": {},
   "outputs": [],
   "source": [
    "import re"
   ]
  },
  {
   "cell_type": "code",
   "execution_count": 6,
   "metadata": {},
   "outputs": [
    {
     "data": {
      "text/plain": [
       "[['in',\n",
       "  'comparison',\n",
       "  'to',\n",
       "  'dogs',\n",
       "  'cats',\n",
       "  'have',\n",
       "  'not',\n",
       "  'undergone',\n",
       "  'major',\n",
       "  'changes',\n",
       "  'during',\n",
       "  'the',\n",
       "  'domestication',\n",
       "  'process'],\n",
       " ['as',\n",
       "  'cat',\n",
       "  'simply',\n",
       "  'catenates',\n",
       "  'streams',\n",
       "  'of',\n",
       "  'bytes',\n",
       "  'it',\n",
       "  'can',\n",
       "  'be',\n",
       "  'also',\n",
       "  'used',\n",
       "  'to',\n",
       "  'concatenate',\n",
       "  'binary',\n",
       "  'files',\n",
       "  'where',\n",
       "  'it',\n",
       "  'will',\n",
       "  'just',\n",
       "  'concatenate',\n",
       "  'sequence',\n",
       "  'of',\n",
       "  'bytes'],\n",
       " ['a',\n",
       "  'common',\n",
       "  'interactive',\n",
       "  'use',\n",
       "  'of',\n",
       "  'cat',\n",
       "  'for',\n",
       "  'a',\n",
       "  'single',\n",
       "  'file',\n",
       "  'is',\n",
       "  'to',\n",
       "  'output',\n",
       "  'the',\n",
       "  'content',\n",
       "  'of',\n",
       "  'a',\n",
       "  'file',\n",
       "  'to',\n",
       "  'standard',\n",
       "  'output'],\n",
       " ['cats',\n",
       "  'can',\n",
       "  'hear',\n",
       "  'sounds',\n",
       "  'too',\n",
       "  'faint',\n",
       "  'or',\n",
       "  'too',\n",
       "  'high',\n",
       "  'in',\n",
       "  'frequency',\n",
       "  'for',\n",
       "  'human',\n",
       "  'ears',\n",
       "  'such',\n",
       "  'as',\n",
       "  'those',\n",
       "  'made',\n",
       "  'by',\n",
       "  'mice',\n",
       "  'and',\n",
       "  'other',\n",
       "  'small',\n",
       "  'animals'],\n",
       " ['in',\n",
       "  'one',\n",
       "  'people',\n",
       "  'deliberately',\n",
       "  'tamed',\n",
       "  'cats',\n",
       "  'in',\n",
       "  'a',\n",
       "  'process',\n",
       "  'of',\n",
       "  'artificial',\n",
       "  'selection',\n",
       "  'as',\n",
       "  'they',\n",
       "  'were',\n",
       "  'useful',\n",
       "  'predators',\n",
       "  'of',\n",
       "  'vermin'],\n",
       " ['the',\n",
       "  'domesticated',\n",
       "  'cat',\n",
       "  'and',\n",
       "  'its',\n",
       "  'closest',\n",
       "  'wild',\n",
       "  'ancestor',\n",
       "  'are',\n",
       "  'both',\n",
       "  'diploid',\n",
       "  'organisms',\n",
       "  'that',\n",
       "  'possess',\n",
       "  'chromosomes',\n",
       "  'and',\n",
       "  'roughly',\n",
       "  'genes'],\n",
       " ['domestic',\n",
       "  'cats',\n",
       "  'are',\n",
       "  'similar',\n",
       "  'in',\n",
       "  'size',\n",
       "  'to',\n",
       "  'the',\n",
       "  'other',\n",
       "  'members',\n",
       "  'of',\n",
       "  'the',\n",
       "  'genus',\n",
       "  'felis',\n",
       "  'typically',\n",
       "  'weighing',\n",
       "  'between',\n",
       "  'and',\n",
       "  'kg',\n",
       "  'and',\n",
       "  'lb'],\n",
       " ['however',\n",
       "  'if',\n",
       "  'the',\n",
       "  'output',\n",
       "  'is',\n",
       "  'piped',\n",
       "  'or',\n",
       "  'redirected',\n",
       "  'cat',\n",
       "  'is',\n",
       "  'unnecessary'],\n",
       " ['cat',\n",
       "  'with',\n",
       "  'one',\n",
       "  'named',\n",
       "  'file',\n",
       "  'is',\n",
       "  'safer',\n",
       "  'where',\n",
       "  'human',\n",
       "  'error',\n",
       "  'is',\n",
       "  'a',\n",
       "  'concern',\n",
       "  'one',\n",
       "  'wrong',\n",
       "  'use',\n",
       "  'of',\n",
       "  'the',\n",
       "  'default',\n",
       "  'redirection',\n",
       "  'symbol',\n",
       "  'instead',\n",
       "  'of',\n",
       "  'often',\n",
       "  'adjacent',\n",
       "  'on',\n",
       "  'keyboards',\n",
       "  'may',\n",
       "  'permanently',\n",
       "  'delete',\n",
       "  'the',\n",
       "  'file',\n",
       "  'you',\n",
       "  'were',\n",
       "  'just',\n",
       "  'needing',\n",
       "  'to',\n",
       "  'read'],\n",
       " ['in',\n",
       "  'terms',\n",
       "  'of',\n",
       "  'legibility',\n",
       "  'a',\n",
       "  'sequence',\n",
       "  'of',\n",
       "  'commands',\n",
       "  'starting',\n",
       "  'with',\n",
       "  'cat',\n",
       "  'and',\n",
       "  'connected',\n",
       "  'by',\n",
       "  'pipes',\n",
       "  'has',\n",
       "  'a',\n",
       "  'clear',\n",
       "  'left',\n",
       "  'to',\n",
       "  'right',\n",
       "  'flow',\n",
       "  'of',\n",
       "  'information'],\n",
       " ['cat',\n",
       "  'command',\n",
       "  'is',\n",
       "  'one',\n",
       "  'of',\n",
       "  'the',\n",
       "  'basic',\n",
       "  'commands',\n",
       "  'that',\n",
       "  'you',\n",
       "  'learned',\n",
       "  'when',\n",
       "  'you',\n",
       "  'started',\n",
       "  'in',\n",
       "  'the',\n",
       "  'unix',\n",
       "  'linux',\n",
       "  'world'],\n",
       " ['using',\n",
       "  'cat',\n",
       "  'command',\n",
       "  'the',\n",
       "  'lines',\n",
       "  'received',\n",
       "  'from',\n",
       "  'stdin',\n",
       "  'can',\n",
       "  'be',\n",
       "  'redirected',\n",
       "  'to',\n",
       "  'a',\n",
       "  'new',\n",
       "  'file',\n",
       "  'using',\n",
       "  'redirection',\n",
       "  'symbols'],\n",
       " ['when',\n",
       "  'you',\n",
       "  'type',\n",
       "  'simply',\n",
       "  'cat',\n",
       "  'command',\n",
       "  'without',\n",
       "  'any',\n",
       "  'arguments',\n",
       "  'it',\n",
       "  'just',\n",
       "  'receives',\n",
       "  'the',\n",
       "  'stdin',\n",
       "  'content',\n",
       "  'and',\n",
       "  'displays',\n",
       "  'it',\n",
       "  'in',\n",
       "  'the',\n",
       "  'stdout'],\n",
       " ['leopard',\n",
       "  'was',\n",
       "  'released',\n",
       "  'on',\n",
       "  'october',\n",
       "  'as',\n",
       "  'the',\n",
       "  'successor',\n",
       "  'of',\n",
       "  'tiger',\n",
       "  'version',\n",
       "  'and',\n",
       "  'is',\n",
       "  'available',\n",
       "  'in',\n",
       "  'two',\n",
       "  'editions'],\n",
       " ['according',\n",
       "  'to',\n",
       "  'apple',\n",
       "  'leopard',\n",
       "  'contains',\n",
       "  'over',\n",
       "  'changes',\n",
       "  'and',\n",
       "  'enhancements',\n",
       "  'over',\n",
       "  'its',\n",
       "  'predecessor',\n",
       "  'mac',\n",
       "  'os',\n",
       "  'x',\n",
       "  'tiger'],\n",
       " ['as',\n",
       "  'of',\n",
       "  'mid',\n",
       "  'some',\n",
       "  'apple',\n",
       "  'computers',\n",
       "  'have',\n",
       "  'firmware',\n",
       "  'factory',\n",
       "  'installed',\n",
       "  'which',\n",
       "  'will',\n",
       "  'no',\n",
       "  'longer',\n",
       "  'allow',\n",
       "  'installation',\n",
       "  'of',\n",
       "  'mac',\n",
       "  'os',\n",
       "  'x',\n",
       "  'leopard'],\n",
       " ['since',\n",
       "  'apple',\n",
       "  'moved',\n",
       "  'to',\n",
       "  'using',\n",
       "  'intel',\n",
       "  'processors',\n",
       "  'in',\n",
       "  'their',\n",
       "  'computers',\n",
       "  'the',\n",
       "  'osx',\n",
       "  'community',\n",
       "  'has',\n",
       "  'developed',\n",
       "  'and',\n",
       "  'now',\n",
       "  'also',\n",
       "  'allows',\n",
       "  'mac',\n",
       "  'os',\n",
       "  'x',\n",
       "  'tiger',\n",
       "  'and',\n",
       "  'later',\n",
       "  'releases',\n",
       "  'to',\n",
       "  'be',\n",
       "  'installed',\n",
       "  'on',\n",
       "  'non',\n",
       "  'apple',\n",
       "  'x',\n",
       "  'based',\n",
       "  'computers'],\n",
       " ['os',\n",
       "  'x',\n",
       "  'mountain',\n",
       "  'lion',\n",
       "  'was',\n",
       "  'released',\n",
       "  'on',\n",
       "  'july',\n",
       "  'for',\n",
       "  'purchase',\n",
       "  'and',\n",
       "  'download',\n",
       "  'through',\n",
       "  'apple',\n",
       "  's',\n",
       "  'mac',\n",
       "  'app',\n",
       "  'store',\n",
       "  'as',\n",
       "  'part',\n",
       "  'of',\n",
       "  'a',\n",
       "  'switch',\n",
       "  'to',\n",
       "  'releasing',\n",
       "  'os',\n",
       "  'x',\n",
       "  'versions',\n",
       "  'online',\n",
       "  'and',\n",
       "  'every',\n",
       "  'year'],\n",
       " ['apple',\n",
       "  'has',\n",
       "  'released',\n",
       "  'a',\n",
       "  'small',\n",
       "  'patch',\n",
       "  'for',\n",
       "  'the',\n",
       "  'three',\n",
       "  'most',\n",
       "  'recent',\n",
       "  'versions',\n",
       "  'of',\n",
       "  'safari',\n",
       "  'running',\n",
       "  'on',\n",
       "  'os',\n",
       "  'x',\n",
       "  'yosemite',\n",
       "  'mavericks',\n",
       "  'and',\n",
       "  'mountain',\n",
       "  'lion'],\n",
       " ['the',\n",
       "  'mountain',\n",
       "  'lion',\n",
       "  'release',\n",
       "  'marks',\n",
       "  'the',\n",
       "  'second',\n",
       "  'time',\n",
       "  'apple',\n",
       "  'has',\n",
       "  'offered',\n",
       "  'an',\n",
       "  'incremental',\n",
       "  'upgrade',\n",
       "  'rather',\n",
       "  'than',\n",
       "  'releasing',\n",
       "  'a',\n",
       "  'new',\n",
       "  'cat',\n",
       "  'entirely'],\n",
       " ['mac',\n",
       "  'os',\n",
       "  'x',\n",
       "  'mountain',\n",
       "  'lion',\n",
       "  'installs',\n",
       "  'in',\n",
       "  'place',\n",
       "  'so',\n",
       "  'you',\n",
       "  'won',\n",
       "  't',\n",
       "  'need',\n",
       "  'to',\n",
       "  'create',\n",
       "  'a',\n",
       "  'separate',\n",
       "  'disk',\n",
       "  'or',\n",
       "  'run',\n",
       "  'the',\n",
       "  'installation',\n",
       "  'off',\n",
       "  'an',\n",
       "  'external',\n",
       "  'drive'],\n",
       " ['the',\n",
       "  'fifth',\n",
       "  'major',\n",
       "  'update',\n",
       "  'to',\n",
       "  'mac',\n",
       "  'os',\n",
       "  'x',\n",
       "  'leopard',\n",
       "  'contains',\n",
       "  'such',\n",
       "  'a',\n",
       "  'mountain',\n",
       "  'of',\n",
       "  'features',\n",
       "  'more',\n",
       "  'than',\n",
       "  'by',\n",
       "  'apple',\n",
       "  's',\n",
       "  'count']]"
      ]
     },
     "execution_count": 6,
     "metadata": {},
     "output_type": "execute_result"
    }
   ],
   "source": [
    "data3 = [list(filter(None,re.split('[^a-z]', i))) for i in data2]\n",
    "data3"
   ]
  },
  {
   "cell_type": "markdown",
   "metadata": {},
   "source": [
    "Составляем словарь всех слов, что встречаются в предложениях."
   ]
  },
  {
   "cell_type": "code",
   "execution_count": 10,
   "metadata": {},
   "outputs": [],
   "source": [
    "d=[]\n",
    "for i in data3:\n",
    "    d.extend(i) "
   ]
  },
  {
   "cell_type": "code",
   "execution_count": 12,
   "metadata": {},
   "outputs": [],
   "source": [
    "import numpy as np\n",
    "uniques = np.unique(d)"
   ]
  },
  {
   "cell_type": "code",
   "execution_count": 15,
   "metadata": {},
   "outputs": [],
   "source": [
    "dictionary = dict(zip(uniques, np.arange(len(d))))"
   ]
  },
  {
   "cell_type": "code",
   "execution_count": 16,
   "metadata": {},
   "outputs": [
    {
     "data": {
      "text/plain": [
       "{'a': 0,\n",
       " 'according': 1,\n",
       " 'adjacent': 2,\n",
       " 'allow': 3,\n",
       " 'allows': 4,\n",
       " 'also': 5,\n",
       " 'an': 6,\n",
       " 'ancestor': 7,\n",
       " 'and': 8,\n",
       " 'animals': 9,\n",
       " 'any': 10,\n",
       " 'app': 11,\n",
       " 'apple': 12,\n",
       " 'are': 13,\n",
       " 'arguments': 14,\n",
       " 'artificial': 15,\n",
       " 'as': 16,\n",
       " 'available': 17,\n",
       " 'based': 18,\n",
       " 'basic': 19,\n",
       " 'be': 20,\n",
       " 'between': 21,\n",
       " 'binary': 22,\n",
       " 'both': 23,\n",
       " 'by': 24,\n",
       " 'bytes': 25,\n",
       " 'can': 26,\n",
       " 'cat': 27,\n",
       " 'catenates': 28,\n",
       " 'cats': 29,\n",
       " 'changes': 30,\n",
       " 'chromosomes': 31,\n",
       " 'clear': 32,\n",
       " 'closest': 33,\n",
       " 'command': 34,\n",
       " 'commands': 35,\n",
       " 'common': 36,\n",
       " 'community': 37,\n",
       " 'comparison': 38,\n",
       " 'computers': 39,\n",
       " 'concatenate': 40,\n",
       " 'concern': 41,\n",
       " 'connected': 42,\n",
       " 'contains': 43,\n",
       " 'content': 44,\n",
       " 'count': 45,\n",
       " 'create': 46,\n",
       " 'default': 47,\n",
       " 'delete': 48,\n",
       " 'deliberately': 49,\n",
       " 'developed': 50,\n",
       " 'diploid': 51,\n",
       " 'disk': 52,\n",
       " 'displays': 53,\n",
       " 'dogs': 54,\n",
       " 'domestic': 55,\n",
       " 'domesticated': 56,\n",
       " 'domestication': 57,\n",
       " 'download': 58,\n",
       " 'drive': 59,\n",
       " 'during': 60,\n",
       " 'ears': 61,\n",
       " 'editions': 62,\n",
       " 'enhancements': 63,\n",
       " 'entirely': 64,\n",
       " 'error': 65,\n",
       " 'every': 66,\n",
       " 'external': 67,\n",
       " 'factory': 68,\n",
       " 'faint': 69,\n",
       " 'features': 70,\n",
       " 'felis': 71,\n",
       " 'fifth': 72,\n",
       " 'file': 73,\n",
       " 'files': 74,\n",
       " 'firmware': 75,\n",
       " 'flow': 76,\n",
       " 'for': 77,\n",
       " 'frequency': 78,\n",
       " 'from': 79,\n",
       " 'genes': 80,\n",
       " 'genus': 81,\n",
       " 'has': 82,\n",
       " 'have': 83,\n",
       " 'hear': 84,\n",
       " 'high': 85,\n",
       " 'however': 86,\n",
       " 'human': 87,\n",
       " 'if': 88,\n",
       " 'in': 89,\n",
       " 'incremental': 90,\n",
       " 'information': 91,\n",
       " 'installation': 92,\n",
       " 'installed': 93,\n",
       " 'installs': 94,\n",
       " 'instead': 95,\n",
       " 'intel': 96,\n",
       " 'interactive': 97,\n",
       " 'is': 98,\n",
       " 'it': 99,\n",
       " 'its': 100,\n",
       " 'july': 101,\n",
       " 'just': 102,\n",
       " 'keyboards': 103,\n",
       " 'kg': 104,\n",
       " 'later': 105,\n",
       " 'lb': 106,\n",
       " 'learned': 107,\n",
       " 'left': 108,\n",
       " 'legibility': 109,\n",
       " 'leopard': 110,\n",
       " 'lines': 111,\n",
       " 'linux': 112,\n",
       " 'lion': 113,\n",
       " 'longer': 114,\n",
       " 'mac': 115,\n",
       " 'made': 116,\n",
       " 'major': 117,\n",
       " 'marks': 118,\n",
       " 'mavericks': 119,\n",
       " 'may': 120,\n",
       " 'members': 121,\n",
       " 'mice': 122,\n",
       " 'mid': 123,\n",
       " 'more': 124,\n",
       " 'most': 125,\n",
       " 'mountain': 126,\n",
       " 'moved': 127,\n",
       " 'named': 128,\n",
       " 'need': 129,\n",
       " 'needing': 130,\n",
       " 'new': 131,\n",
       " 'no': 132,\n",
       " 'non': 133,\n",
       " 'not': 134,\n",
       " 'now': 135,\n",
       " 'october': 136,\n",
       " 'of': 137,\n",
       " 'off': 138,\n",
       " 'offered': 139,\n",
       " 'often': 140,\n",
       " 'on': 141,\n",
       " 'one': 142,\n",
       " 'online': 143,\n",
       " 'or': 144,\n",
       " 'organisms': 145,\n",
       " 'os': 146,\n",
       " 'osx': 147,\n",
       " 'other': 148,\n",
       " 'output': 149,\n",
       " 'over': 150,\n",
       " 'part': 151,\n",
       " 'patch': 152,\n",
       " 'people': 153,\n",
       " 'permanently': 154,\n",
       " 'piped': 155,\n",
       " 'pipes': 156,\n",
       " 'place': 157,\n",
       " 'possess': 158,\n",
       " 'predators': 159,\n",
       " 'predecessor': 160,\n",
       " 'process': 161,\n",
       " 'processors': 162,\n",
       " 'purchase': 163,\n",
       " 'rather': 164,\n",
       " 'read': 165,\n",
       " 'received': 166,\n",
       " 'receives': 167,\n",
       " 'recent': 168,\n",
       " 'redirected': 169,\n",
       " 'redirection': 170,\n",
       " 'release': 171,\n",
       " 'released': 172,\n",
       " 'releases': 173,\n",
       " 'releasing': 174,\n",
       " 'right': 175,\n",
       " 'roughly': 176,\n",
       " 'run': 177,\n",
       " 'running': 178,\n",
       " 's': 179,\n",
       " 'safari': 180,\n",
       " 'safer': 181,\n",
       " 'second': 182,\n",
       " 'selection': 183,\n",
       " 'separate': 184,\n",
       " 'sequence': 185,\n",
       " 'similar': 186,\n",
       " 'simply': 187,\n",
       " 'since': 188,\n",
       " 'single': 189,\n",
       " 'size': 190,\n",
       " 'small': 191,\n",
       " 'so': 192,\n",
       " 'some': 193,\n",
       " 'sounds': 194,\n",
       " 'standard': 195,\n",
       " 'started': 196,\n",
       " 'starting': 197,\n",
       " 'stdin': 198,\n",
       " 'stdout': 199,\n",
       " 'store': 200,\n",
       " 'streams': 201,\n",
       " 'successor': 202,\n",
       " 'such': 203,\n",
       " 'switch': 204,\n",
       " 'symbol': 205,\n",
       " 'symbols': 206,\n",
       " 't': 207,\n",
       " 'tamed': 208,\n",
       " 'terms': 209,\n",
       " 'than': 210,\n",
       " 'that': 211,\n",
       " 'the': 212,\n",
       " 'their': 213,\n",
       " 'they': 214,\n",
       " 'those': 215,\n",
       " 'three': 216,\n",
       " 'through': 217,\n",
       " 'tiger': 218,\n",
       " 'time': 219,\n",
       " 'to': 220,\n",
       " 'too': 221,\n",
       " 'two': 222,\n",
       " 'type': 223,\n",
       " 'typically': 224,\n",
       " 'undergone': 225,\n",
       " 'unix': 226,\n",
       " 'unnecessary': 227,\n",
       " 'update': 228,\n",
       " 'upgrade': 229,\n",
       " 'use': 230,\n",
       " 'used': 231,\n",
       " 'useful': 232,\n",
       " 'using': 233,\n",
       " 'vermin': 234,\n",
       " 'version': 235,\n",
       " 'versions': 236,\n",
       " 'was': 237,\n",
       " 'weighing': 238,\n",
       " 'were': 239,\n",
       " 'when': 240,\n",
       " 'where': 241,\n",
       " 'which': 242,\n",
       " 'wild': 243,\n",
       " 'will': 244,\n",
       " 'with': 245,\n",
       " 'without': 246,\n",
       " 'won': 247,\n",
       " 'world': 248,\n",
       " 'wrong': 249,\n",
       " 'x': 250,\n",
       " 'year': 251,\n",
       " 'yosemite': 252,\n",
       " 'you': 253}"
      ]
     },
     "execution_count": 16,
     "metadata": {},
     "output_type": "execute_result"
    }
   ],
   "source": [
    "dictionary"
   ]
  },
  {
   "cell_type": "markdown",
   "metadata": {},
   "source": [
    "Создаем матрицу размера n * d, где n — число предложений, d - число различных слов."
   ]
  },
  {
   "cell_type": "code",
   "execution_count": 17,
   "metadata": {},
   "outputs": [
    {
     "data": {
      "text/plain": [
       "(22, 254)"
      ]
     },
     "execution_count": 17,
     "metadata": {},
     "output_type": "execute_result"
    }
   ],
   "source": [
    "M = np.zeros((len(data3), len(uniques)))\n",
    "M.shape"
   ]
  },
  {
   "cell_type": "markdown",
   "metadata": {},
   "source": [
    "Заполняем матрицу. Элемент матрицы с индексом (i,j) равен количеству вхождений j-го слова в i-е предложение."
   ]
  },
  {
   "cell_type": "code",
   "execution_count": 18,
   "metadata": {},
   "outputs": [
    {
     "data": {
      "text/plain": [
       "array([[0., 0., 0., ..., 0., 0., 0.],\n",
       "       [0., 0., 0., ..., 0., 0., 0.],\n",
       "       [3., 0., 0., ..., 0., 0., 0.],\n",
       "       ...,\n",
       "       [1., 0., 0., ..., 0., 0., 0.],\n",
       "       [1., 0., 0., ..., 0., 0., 1.],\n",
       "       [1., 0., 0., ..., 0., 0., 0.]])"
      ]
     },
     "execution_count": 18,
     "metadata": {},
     "output_type": "execute_result"
    }
   ],
   "source": [
    "for i in np.arange(len(data3)):\n",
    "    for j in np.arange(len(uniques)):\n",
    "        M[i,j] = data3[i].count(uniques[j])\n",
    "M"
   ]
  },
  {
   "cell_type": "markdown",
   "metadata": {},
   "source": [
    "Находим косинусное расстояние от первого предложения до всех остальных."
   ]
  },
  {
   "cell_type": "code",
   "execution_count": 124,
   "metadata": {},
   "outputs": [
    {
     "data": {
      "text/plain": [
       "[0.0,\n",
       " 0.95275444087384664,\n",
       " 0.86447381456421235,\n",
       " 0.89517151632780823,\n",
       " 0.77708871496985887,\n",
       " 0.94023856953328033,\n",
       " 0.7327387580875756,\n",
       " 0.92587506833388988,\n",
       " 0.88427248752843102,\n",
       " 0.90550888174769317,\n",
       " 0.83281653622739416,\n",
       " 0.88047713906656067,\n",
       " 0.83964325485254543,\n",
       " 0.87035925528956715,\n",
       " 0.87401184233025764,\n",
       " 0.94427217874246472,\n",
       " 0.84063618542208085,\n",
       " 0.95664450152379399,\n",
       " 0.94427217874246472,\n",
       " 0.88854435748492944,\n",
       " 0.84275727449171223,\n",
       " 0.82503644694405864]"
      ]
     },
     "execution_count": 124,
     "metadata": {},
     "output_type": "execute_result"
    }
   ],
   "source": [
    "from scipy.spatial.distance import cosine\n",
    "\n",
    "cos = [cosine(M[0], i) for i in M] \n",
    "cos"
   ]
  },
  {
   "cell_type": "markdown",
   "metadata": {},
   "source": [
    "Находим индекс минимального расстояния, исключая 0."
   ]
  },
  {
   "cell_type": "code",
   "execution_count": 125,
   "metadata": {},
   "outputs": [
    {
     "data": {
      "text/plain": [
       "6"
      ]
     },
     "execution_count": 125,
     "metadata": {},
     "output_type": "execute_result"
    }
   ],
   "source": [
    "cos.index(min(cos[1:]))"
   ]
  },
  {
   "cell_type": "markdown",
   "metadata": {},
   "source": [
    "Индекс второго минимального расстояния:"
   ]
  },
  {
   "cell_type": "code",
   "execution_count": 126,
   "metadata": {},
   "outputs": [
    {
     "data": {
      "text/plain": [
       "4"
      ]
     },
     "execution_count": 126,
     "metadata": {},
     "output_type": "execute_result"
    }
   ],
   "source": [
    "cos[6] = 1\n",
    "cos.index(min(cos[1:]))"
   ]
  },
  {
   "cell_type": "markdown",
   "metadata": {},
   "source": [
    "Выводим полученные предложения на экран:"
   ]
  },
  {
   "cell_type": "code",
   "execution_count": 119,
   "metadata": {},
   "outputs": [
    {
     "data": {
      "text/plain": [
       "'Domestic cats are similar in size to the other members of the genus Felis, typically weighing between 4 and 5 kg (8.8 and 11.0 lb).'"
      ]
     },
     "execution_count": 119,
     "metadata": {},
     "output_type": "execute_result"
    }
   ],
   "source": [
    "data[6]"
   ]
  },
  {
   "cell_type": "code",
   "execution_count": 121,
   "metadata": {},
   "outputs": [
    {
     "data": {
      "text/plain": [
       "'In one, people deliberately tamed cats in a process of artificial selection, as they were useful predators of vermin.'"
      ]
     },
     "execution_count": 121,
     "metadata": {},
     "output_type": "execute_result"
    }
   ],
   "source": [
    "data[4]"
   ]
  },
  {
   "cell_type": "markdown",
   "metadata": {},
   "source": [
    "Сравним их с первым предложением."
   ]
  },
  {
   "cell_type": "code",
   "execution_count": 27,
   "metadata": {},
   "outputs": [
    {
     "data": {
      "text/plain": [
       "'In comparison to dogs, cats have not undergone major changes during the domestication process.'"
      ]
     },
     "execution_count": 27,
     "metadata": {},
     "output_type": "execute_result"
    }
   ],
   "source": [
    "data[0]"
   ]
  },
  {
   "cell_type": "markdown",
   "metadata": {},
   "source": [
    "Темы предложений совпадают."
   ]
  },
  {
   "cell_type": "code",
   "execution_count": 122,
   "metadata": {
    "collapsed": true
   },
   "outputs": [],
   "source": [
    "with open('linalg1.txt',\"w\") as fout:\n",
    "        fout.write(\" \".join([str(el) for el in [6, 4]]))"
   ]
  },
  {
   "cell_type": "markdown",
   "metadata": {},
   "source": [
    "### Задача 2: аппроксимация функции"
   ]
  },
  {
   "cell_type": "markdown",
   "metadata": {},
   "source": [
    "f(x) = sin(x / 5) * exp(x / 10) + 5 * exp(-x / 2)"
   ]
  },
  {
   "cell_type": "code",
   "execution_count": 2,
   "metadata": {
    "collapsed": true
   },
   "outputs": [],
   "source": [
    "import numpy as np"
   ]
  },
  {
   "cell_type": "code",
   "execution_count": 30,
   "metadata": {},
   "outputs": [
    {
     "data": {
      "text/plain": [
       "array([  1. ,   1.1,   1.2,   1.3,   1.4,   1.5,   1.6,   1.7,   1.8,\n",
       "         1.9,   2. ,   2.1,   2.2,   2.3,   2.4,   2.5,   2.6,   2.7,\n",
       "         2.8,   2.9,   3. ,   3.1,   3.2,   3.3,   3.4,   3.5,   3.6,\n",
       "         3.7,   3.8,   3.9,   4. ,   4.1,   4.2,   4.3,   4.4,   4.5,\n",
       "         4.6,   4.7,   4.8,   4.9,   5. ,   5.1,   5.2,   5.3,   5.4,\n",
       "         5.5,   5.6,   5.7,   5.8,   5.9,   6. ,   6.1,   6.2,   6.3,\n",
       "         6.4,   6.5,   6.6,   6.7,   6.8,   6.9,   7. ,   7.1,   7.2,\n",
       "         7.3,   7.4,   7.5,   7.6,   7.7,   7.8,   7.9,   8. ,   8.1,\n",
       "         8.2,   8.3,   8.4,   8.5,   8.6,   8.7,   8.8,   8.9,   9. ,\n",
       "         9.1,   9.2,   9.3,   9.4,   9.5,   9.6,   9.7,   9.8,   9.9,\n",
       "        10. ,  10.1,  10.2,  10.3,  10.4,  10.5,  10.6,  10.7,  10.8,\n",
       "        10.9,  11. ,  11.1,  11.2,  11.3,  11.4,  11.5,  11.6,  11.7,\n",
       "        11.8,  11.9,  12. ,  12.1,  12.2,  12.3,  12.4,  12.5,  12.6,\n",
       "        12.7,  12.8,  12.9,  13. ,  13.1,  13.2,  13.3,  13.4,  13.5,\n",
       "        13.6,  13.7,  13.8,  13.9,  14. ,  14.1,  14.2,  14.3,  14.4,\n",
       "        14.5,  14.6,  14.7,  14.8,  14.9,  15. ])"
      ]
     },
     "execution_count": 30,
     "metadata": {},
     "output_type": "execute_result"
    }
   ],
   "source": [
    "x = np.arange(1, 15.1, 0.1)\n",
    "x"
   ]
  },
  {
   "cell_type": "code",
   "execution_count": 31,
   "metadata": {
    "collapsed": true
   },
   "outputs": [],
   "source": [
    "def f(x):\n",
    "    return np.sin(x / 5.)*np.exp(x / 10.) + 5*np.exp(-x / 2.)"
   ]
  },
  {
   "cell_type": "code",
   "execution_count": 32,
   "metadata": {},
   "outputs": [
    {
     "data": {
      "text/plain": [
       "array([ 3.25221687,  3.12835399,  3.01206714,  2.90299951,  2.80081118,\n",
       "        2.70517826,  2.6157921 ,  2.53235853,  2.45459713,  2.38224055,\n",
       "        2.31503384,  2.25273387,  2.19510867,  2.14193694,  2.09300744,\n",
       "        2.04811856,  2.00707777,  1.96970118,  1.93581311,  1.90524569,\n",
       "        1.87783842,  1.8534378 ,  1.83189701,  1.81307554,  1.79683886,\n",
       "        1.78305813,  1.77160989,  1.76237578,  1.75524231,  1.75010055,\n",
       "        1.74684595,  1.74537806,  1.74560034,  1.74741997,  1.75074761,\n",
       "        1.75549726,  1.76158605,  1.76893408,  1.77746429,  1.78710226,\n",
       "        1.7977761 ,  1.80941632,  1.82195565,  1.83532898,  1.84947321,\n",
       "        1.86432715,  1.8798314 ,  1.89592828,  1.91256169,  1.92967706,\n",
       "        1.94722128,  1.96514256,  1.98339041,  2.00191553,  2.02066978,\n",
       "        2.03960608,  2.05867839,  2.07784159,  2.09705151,  2.11626482,\n",
       "        2.13543898,  2.15453224,  2.17350357,  2.19231261,  2.21091966,\n",
       "        2.22928563,  2.24737201,  2.26514084,  2.28255469,  2.29957661,\n",
       "        2.31617016,  2.33229931,  2.3479285 ,  2.36302256,  2.37754673,\n",
       "        2.39146662,  2.40474822,  2.41735787,  2.42926225,  2.4404284 ,\n",
       "        2.45082365,  2.46041567,  2.46917245,  2.47706227,  2.48405374,\n",
       "        2.49011575,  2.49521751,  2.4993285 ,  2.50241853,  2.5044577 ,\n",
       "        2.50541641,  2.50526537,  2.5039756 ,  2.50151843,  2.4978655 ,\n",
       "        2.4929888 ,  2.48686063,  2.47945363,  2.47074078,  2.46069543,\n",
       "        2.44929128,  2.43650241,  2.42230328,  2.40666873,  2.38957402,\n",
       "        2.37099482,  2.35090722,  2.32928777,  2.30611345,  2.28136171,\n",
       "        2.2550105 ,  2.22703823,  2.19742385,  2.16614681,  2.13318711,\n",
       "        2.0985253 ,  2.06214251,  2.02402043,  1.98414137,  1.94248826,\n",
       "        1.89904466,  1.85379478,  1.8067235 ,  1.75781638,  1.7070597 ,\n",
       "        1.65444046,  1.59994638,  1.54356596,  1.48528848,  1.42510398,\n",
       "        1.36300335,  1.29897829,  1.23302137,  1.16512601,  1.09528654,\n",
       "        1.02349816,  0.94975703,  0.87406025,  0.79640586,  0.7167929 ,\n",
       "        0.63522142])"
      ]
     },
     "execution_count": 32,
     "metadata": {},
     "output_type": "execute_result"
    }
   ],
   "source": [
    "f(x)"
   ]
  },
  {
   "cell_type": "markdown",
   "metadata": {},
   "source": [
    "Решение для многочлена первой степени."
   ]
  },
  {
   "cell_type": "code",
   "execution_count": 33,
   "metadata": {},
   "outputs": [
    {
     "data": {
      "text/plain": [
       "matrix([[ 1,  1],\n",
       "        [ 1, 15]])"
      ]
     },
     "execution_count": 33,
     "metadata": {},
     "output_type": "execute_result"
    }
   ],
   "source": [
    "A = np.matrix([[1, 1],[1,15]])\n",
    "A"
   ]
  },
  {
   "cell_type": "code",
   "execution_count": 34,
   "metadata": {},
   "outputs": [
    {
     "data": {
      "text/plain": [
       "[3.2522168652714192, 0.63522141957866562]"
      ]
     },
     "execution_count": 34,
     "metadata": {},
     "output_type": "execute_result"
    }
   ],
   "source": [
    "b = [f(1),f(15)]\n",
    "b"
   ]
  },
  {
   "cell_type": "code",
   "execution_count": 35,
   "metadata": {},
   "outputs": [
    {
     "data": {
      "text/plain": [
       "array([ 3.43914511, -0.18692825])"
      ]
     },
     "execution_count": 35,
     "metadata": {},
     "output_type": "execute_result"
    }
   ],
   "source": [
    "from scipy.linalg import solve\n",
    "\n",
    "W1 = solve(A, b)\n",
    "W1"
   ]
  },
  {
   "cell_type": "code",
   "execution_count": 36,
   "metadata": {
    "collapsed": true
   },
   "outputs": [],
   "source": [
    "def mn1(x):\n",
    "    return W1[0] +W1[1]*x"
   ]
  },
  {
   "cell_type": "code",
   "execution_count": 37,
   "metadata": {},
   "outputs": [
    {
     "data": {
      "text/plain": [
       "array([ 3.25221687,  3.23352404,  3.21483122,  3.19613839,  3.17744557,\n",
       "        3.15875274,  3.14005992,  3.12136709,  3.10267427,  3.08398144,\n",
       "        3.06528862,  3.04659579,  3.02790297,  3.00921015,  2.99051732,\n",
       "        2.9718245 ,  2.95313167,  2.93443885,  2.91574602,  2.8970532 ,\n",
       "        2.87836037,  2.85966755,  2.84097472,  2.8222819 ,  2.80358907,\n",
       "        2.78489625,  2.76620343,  2.7475106 ,  2.72881778,  2.71012495,\n",
       "        2.69143213,  2.6727393 ,  2.65404648,  2.63535365,  2.61666083,\n",
       "        2.597968  ,  2.57927518,  2.56058235,  2.54188953,  2.52319671,\n",
       "        2.50450388,  2.48581106,  2.46711823,  2.44842541,  2.42973258,\n",
       "        2.41103976,  2.39234693,  2.37365411,  2.35496128,  2.33626846,\n",
       "        2.31757563,  2.29888281,  2.28018999,  2.26149716,  2.24280434,\n",
       "        2.22411151,  2.20541869,  2.18672586,  2.16803304,  2.14934021,\n",
       "        2.13064739,  2.11195456,  2.09326174,  2.07456891,  2.05587609,\n",
       "        2.03718327,  2.01849044,  1.99979762,  1.98110479,  1.96241197,\n",
       "        1.94371914,  1.92502632,  1.90633349,  1.88764067,  1.86894784,\n",
       "        1.85025502,  1.83156219,  1.81286937,  1.79417655,  1.77548372,\n",
       "        1.7567909 ,  1.73809807,  1.71940525,  1.70071242,  1.6820196 ,\n",
       "        1.66332677,  1.64463395,  1.62594112,  1.6072483 ,  1.58855547,\n",
       "        1.56986265,  1.55116983,  1.532477  ,  1.51378418,  1.49509135,\n",
       "        1.47639853,  1.4577057 ,  1.43901288,  1.42032005,  1.40162723,\n",
       "        1.3829344 ,  1.36424158,  1.34554875,  1.32685593,  1.30816311,\n",
       "        1.28947028,  1.27077746,  1.25208463,  1.23339181,  1.21469898,\n",
       "        1.19600616,  1.17731333,  1.15862051,  1.13992768,  1.12123486,\n",
       "        1.10254203,  1.08384921,  1.06515639,  1.04646356,  1.02777074,\n",
       "        1.00907791,  0.99038509,  0.97169226,  0.95299944,  0.93430661,\n",
       "        0.91561379,  0.89692096,  0.87822814,  0.85953531,  0.84084249,\n",
       "        0.82214967,  0.80345684,  0.78476402,  0.76607119,  0.74737837,\n",
       "        0.72868554,  0.70999272,  0.69129989,  0.67260707,  0.65391424,\n",
       "        0.63522142])"
      ]
     },
     "execution_count": 37,
     "metadata": {},
     "output_type": "execute_result"
    }
   ],
   "source": [
    "mn1(x)"
   ]
  },
  {
   "cell_type": "code",
   "execution_count": 38,
   "metadata": {},
   "outputs": [
    {
     "data": {
      "text/plain": [
       "[<matplotlib.lines.Line2D at 0x8a9c358>]"
      ]
     },
     "execution_count": 38,
     "metadata": {},
     "output_type": "execute_result"
    },
    {
     "data": {
      "image/png": "[encoded data removed]",
      "text/plain": [
       "<matplotlib.figure.Figure at 0x8a905c0>"
      ]
     },
     "metadata": {},
     "output_type": "display_data"
    }
   ],
   "source": [
    "%matplotlib inline\n",
    "from matplotlib import pylab as plt\n",
    "\n",
    "plt.plot(x, f(x))\n",
    "plt.plot(x, mn1(x))"
   ]
  },
  {
   "cell_type": "markdown",
   "metadata": {},
   "source": [
    "Решение для многочлена второй степени."
   ]
  },
  {
   "cell_type": "code",
   "execution_count": 43,
   "metadata": {
    "collapsed": true
   },
   "outputs": [],
   "source": [
    "A = np.matrix([[1, 1, 1],[1, 8, 64],[1, 15, 225]])\n",
    "b = [f(1), f(8), f(15)]\n",
    "W2 = solve(A, b)"
   ]
  },
  {
   "cell_type": "code",
   "execution_count": 49,
   "metadata": {
    "collapsed": true
   },
   "outputs": [],
   "source": [
    "def mn2(x):\n",
    "    return W2[0] + W2[1]*x + W2[2]*x**2"
   ]
  },
  {
   "cell_type": "code",
   "execution_count": 50,
   "metadata": {},
   "outputs": [
    {
     "data": {
      "text/plain": [
       "[<matplotlib.lines.Line2D at 0x8fd4d30>]"
      ]
     },
     "execution_count": 50,
     "metadata": {},
     "output_type": "execute_result"
    },
    {
     "data": {
      "image/png": "[encoded data removed]",
      "text/plain": [
       "<matplotlib.figure.Figure at 0x8fd4e80>"
      ]
     },
     "metadata": {},
     "output_type": "display_data"
    }
   ],
   "source": [
    "plt.plot(x, f(x))\n",
    "plt.plot(x, mn2(x))"
   ]
  },
  {
   "cell_type": "markdown",
   "metadata": {},
   "source": [
    "Решение для многочлена третей степени."
   ]
  },
  {
   "cell_type": "code",
   "execution_count": 51,
   "metadata": {
    "collapsed": true
   },
   "outputs": [],
   "source": [
    "A = np.matrix([[1, 1, 1, 1],[1, 4, 16, 4**3],[1, 10, 100, 1000], [1, 15, 225, 15**3]])\n",
    "b = [f(1), f(4), f(10), f(15)]\n",
    "W3 = solve(A, b)"
   ]
  },
  {
   "cell_type": "code",
   "execution_count": 52,
   "metadata": {
    "collapsed": true
   },
   "outputs": [],
   "source": [
    "def mn3(x):\n",
    "    return W3[0] + W3[1]*x + W3[2]*x**2 + W3[3]*x**3"
   ]
  },
  {
   "cell_type": "code",
   "execution_count": 54,
   "metadata": {},
   "outputs": [
    {
     "data": {
      "text/plain": [
       "[<matplotlib.lines.Line2D at 0x8eea3c8>]"
      ]
     },
     "execution_count": 54,
     "metadata": {},
     "output_type": "execute_result"
    },
    {
     "data": {
      "image/png": "[encoded data removed]",
      "text/plain": [
       "<matplotlib.figure.Figure at 0x8eea1d0>"
      ]
     },
     "metadata": {},
     "output_type": "display_data"
    }
   ],
   "source": [
    "plt.plot(x, f(x))\n",
    "plt.plot(x, mn3(x))"
   ]
  },
  {
   "cell_type": "code",
   "execution_count": 58,
   "metadata": {
    "collapsed": true
   },
   "outputs": [],
   "source": [
    "with open('linalg2.txt',\"w\") as fout:\n",
    "        fout.write(\" \".join([str(np.round(el, 2)) for el in W3]))"
   ]
  }
 ],
 "metadata": {
  "kernelspec": {
   "display_name": "Python 3",
   "language": "python",
   "name": "python3"
  },
  "language_info": {
   "codemirror_mode": {
    "name": "ipython",
    "version": 3
   },
   "file_extension": ".py",
   "mimetype": "text/x-python",
   "name": "python",
   "nbconvert_exporter": "python",
   "pygments_lexer": "ipython3",
   "version": "3.7.1"
  }
 },
 "nbformat": 4,
 "nbformat_minor": 1
}
