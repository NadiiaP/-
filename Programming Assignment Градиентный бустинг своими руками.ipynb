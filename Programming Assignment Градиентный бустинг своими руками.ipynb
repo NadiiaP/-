{
 "cells": [
  {
   "cell_type": "markdown",
   "metadata": {},
   "source": [
    "### Programming Assignment: Градиентный бустинг своими руками"
   ]
  },
  {
   "cell_type": "code",
   "execution_count": 143,
   "metadata": {
    "collapsed": false
   },
   "outputs": [],
   "source": [
    "import numpy as np\n",
    "import pandas as pd\n",
    "from sklearn import datasets\n",
    "from sklearn.tree import DecisionTreeRegressor\n",
    "from sklearn.model_selection import train_test_split\n",
    "from sklearn.metrics import mean_squared_error\n",
    "import xgboost as xgb"
   ]
  },
  {
   "cell_type": "code",
   "execution_count": 2,
   "metadata": {
    "collapsed": false
   },
   "outputs": [
    {
     "name": "stdout",
     "output_type": "stream",
     "text": [
      "Populating the interactive namespace from numpy and matplotlib\n"
     ]
    }
   ],
   "source": [
    "%pylab inline"
   ]
  },
  {
   "cell_type": "code",
   "execution_count": 40,
   "metadata": {
    "collapsed": true
   },
   "outputs": [],
   "source": [
    "data = datasets.load_boston()"
   ]
  },
  {
   "cell_type": "code",
   "execution_count": 41,
   "metadata": {
    "collapsed": false
   },
   "outputs": [
    {
     "data": {
      "text/plain": [
       "{'DESCR': \"Boston House Prices dataset\\n===========================\\n\\nNotes\\n------\\nData Set Characteristics:  \\n\\n    :Number of Instances: 506 \\n\\n    :Number of Attributes: 13 numeric/categorical predictive\\n    \\n    :Median Value (attribute 14) is usually the target\\n\\n    :Attribute Information (in order):\\n        - CRIM     per capita crime rate by town\\n        - ZN       proportion of residential land zoned for lots over 25,000 sq.ft.\\n        - INDUS    proportion of non-retail business acres per town\\n        - CHAS     Charles River dummy variable (= 1 if tract bounds river; 0 otherwise)\\n        - NOX      nitric oxides concentration (parts per 10 million)\\n        - RM       average number of rooms per dwelling\\n        - AGE      proportion of owner-occupied units built prior to 1940\\n        - DIS      weighted distances to five Boston employment centres\\n        - RAD      index of accessibility to radial highways\\n        - TAX      full-value property-tax rate per $10,000\\n        - PTRATIO  pupil-teacher ratio by town\\n        - B        1000(Bk - 0.63)^2 where Bk is the proportion of blacks by town\\n        - LSTAT    % lower status of the population\\n        - MEDV     Median value of owner-occupied homes in $1000's\\n\\n    :Missing Attribute Values: None\\n\\n    :Creator: Harrison, D. and Rubinfeld, D.L.\\n\\nThis is a copy of UCI ML housing dataset.\\nhttp://archive.ics.uci.edu/ml/datasets/Housing\\n\\n\\nThis dataset was taken from the StatLib library which is maintained at Carnegie Mellon University.\\n\\nThe Boston house-price data of Harrison, D. and Rubinfeld, D.L. 'Hedonic\\nprices and the demand for clean air', J. Environ. Economics & Management,\\nvol.5, 81-102, 1978.   Used in Belsley, Kuh & Welsch, 'Regression diagnostics\\n...', Wiley, 1980.   N.B. Various transformations are used in the table on\\npages 244-261 of the latter.\\n\\nThe Boston house-price data has been used in many machine learning papers that address regression\\nproblems.   \\n     \\n**References**\\n\\n   - Belsley, Kuh & Welsch, 'Regression diagnostics: Identifying Influential Data and Sources of Collinearity', Wiley, 1980. 244-261.\\n   - Quinlan,R. (1993). Combining Instance-Based and Model-Based Learning. In Proceedings on the Tenth International Conference of Machine Learning, 236-243, University of Massachusetts, Amherst. Morgan Kaufmann.\\n   - many more! (see http://archive.ics.uci.edu/ml/datasets/Housing)\\n\",\n",
       " 'data': array([[  6.32000000e-03,   1.80000000e+01,   2.31000000e+00, ...,\n",
       "           1.53000000e+01,   3.96900000e+02,   4.98000000e+00],\n",
       "        [  2.73100000e-02,   0.00000000e+00,   7.07000000e+00, ...,\n",
       "           1.78000000e+01,   3.96900000e+02,   9.14000000e+00],\n",
       "        [  2.72900000e-02,   0.00000000e+00,   7.07000000e+00, ...,\n",
       "           1.78000000e+01,   3.92830000e+02,   4.03000000e+00],\n",
       "        ..., \n",
       "        [  6.07600000e-02,   0.00000000e+00,   1.19300000e+01, ...,\n",
       "           2.10000000e+01,   3.96900000e+02,   5.64000000e+00],\n",
       "        [  1.09590000e-01,   0.00000000e+00,   1.19300000e+01, ...,\n",
       "           2.10000000e+01,   3.93450000e+02,   6.48000000e+00],\n",
       "        [  4.74100000e-02,   0.00000000e+00,   1.19300000e+01, ...,\n",
       "           2.10000000e+01,   3.96900000e+02,   7.88000000e+00]]),\n",
       " 'feature_names': array(['CRIM', 'ZN', 'INDUS', 'CHAS', 'NOX', 'RM', 'AGE', 'DIS', 'RAD',\n",
       "        'TAX', 'PTRATIO', 'B', 'LSTAT'], \n",
       "       dtype='|S7'),\n",
       " 'target': array([ 24. ,  21.6,  34.7,  33.4,  36.2,  28.7,  22.9,  27.1,  16.5,\n",
       "         18.9,  15. ,  18.9,  21.7,  20.4,  18.2,  19.9,  23.1,  17.5,\n",
       "         20.2,  18.2,  13.6,  19.6,  15.2,  14.5,  15.6,  13.9,  16.6,\n",
       "         14.8,  18.4,  21. ,  12.7,  14.5,  13.2,  13.1,  13.5,  18.9,\n",
       "         20. ,  21. ,  24.7,  30.8,  34.9,  26.6,  25.3,  24.7,  21.2,\n",
       "         19.3,  20. ,  16.6,  14.4,  19.4,  19.7,  20.5,  25. ,  23.4,\n",
       "         18.9,  35.4,  24.7,  31.6,  23.3,  19.6,  18.7,  16. ,  22.2,\n",
       "         25. ,  33. ,  23.5,  19.4,  22. ,  17.4,  20.9,  24.2,  21.7,\n",
       "         22.8,  23.4,  24.1,  21.4,  20. ,  20.8,  21.2,  20.3,  28. ,\n",
       "         23.9,  24.8,  22.9,  23.9,  26.6,  22.5,  22.2,  23.6,  28.7,\n",
       "         22.6,  22. ,  22.9,  25. ,  20.6,  28.4,  21.4,  38.7,  43.8,\n",
       "         33.2,  27.5,  26.5,  18.6,  19.3,  20.1,  19.5,  19.5,  20.4,\n",
       "         19.8,  19.4,  21.7,  22.8,  18.8,  18.7,  18.5,  18.3,  21.2,\n",
       "         19.2,  20.4,  19.3,  22. ,  20.3,  20.5,  17.3,  18.8,  21.4,\n",
       "         15.7,  16.2,  18. ,  14.3,  19.2,  19.6,  23. ,  18.4,  15.6,\n",
       "         18.1,  17.4,  17.1,  13.3,  17.8,  14. ,  14.4,  13.4,  15.6,\n",
       "         11.8,  13.8,  15.6,  14.6,  17.8,  15.4,  21.5,  19.6,  15.3,\n",
       "         19.4,  17. ,  15.6,  13.1,  41.3,  24.3,  23.3,  27. ,  50. ,\n",
       "         50. ,  50. ,  22.7,  25. ,  50. ,  23.8,  23.8,  22.3,  17.4,\n",
       "         19.1,  23.1,  23.6,  22.6,  29.4,  23.2,  24.6,  29.9,  37.2,\n",
       "         39.8,  36.2,  37.9,  32.5,  26.4,  29.6,  50. ,  32. ,  29.8,\n",
       "         34.9,  37. ,  30.5,  36.4,  31.1,  29.1,  50. ,  33.3,  30.3,\n",
       "         34.6,  34.9,  32.9,  24.1,  42.3,  48.5,  50. ,  22.6,  24.4,\n",
       "         22.5,  24.4,  20. ,  21.7,  19.3,  22.4,  28.1,  23.7,  25. ,\n",
       "         23.3,  28.7,  21.5,  23. ,  26.7,  21.7,  27.5,  30.1,  44.8,\n",
       "         50. ,  37.6,  31.6,  46.7,  31.5,  24.3,  31.7,  41.7,  48.3,\n",
       "         29. ,  24. ,  25.1,  31.5,  23.7,  23.3,  22. ,  20.1,  22.2,\n",
       "         23.7,  17.6,  18.5,  24.3,  20.5,  24.5,  26.2,  24.4,  24.8,\n",
       "         29.6,  42.8,  21.9,  20.9,  44. ,  50. ,  36. ,  30.1,  33.8,\n",
       "         43.1,  48.8,  31. ,  36.5,  22.8,  30.7,  50. ,  43.5,  20.7,\n",
       "         21.1,  25.2,  24.4,  35.2,  32.4,  32. ,  33.2,  33.1,  29.1,\n",
       "         35.1,  45.4,  35.4,  46. ,  50. ,  32.2,  22. ,  20.1,  23.2,\n",
       "         22.3,  24.8,  28.5,  37.3,  27.9,  23.9,  21.7,  28.6,  27.1,\n",
       "         20.3,  22.5,  29. ,  24.8,  22. ,  26.4,  33.1,  36.1,  28.4,\n",
       "         33.4,  28.2,  22.8,  20.3,  16.1,  22.1,  19.4,  21.6,  23.8,\n",
       "         16.2,  17.8,  19.8,  23.1,  21. ,  23.8,  23.1,  20.4,  18.5,\n",
       "         25. ,  24.6,  23. ,  22.2,  19.3,  22.6,  19.8,  17.1,  19.4,\n",
       "         22.2,  20.7,  21.1,  19.5,  18.5,  20.6,  19. ,  18.7,  32.7,\n",
       "         16.5,  23.9,  31.2,  17.5,  17.2,  23.1,  24.5,  26.6,  22.9,\n",
       "         24.1,  18.6,  30.1,  18.2,  20.6,  17.8,  21.7,  22.7,  22.6,\n",
       "         25. ,  19.9,  20.8,  16.8,  21.9,  27.5,  21.9,  23.1,  50. ,\n",
       "         50. ,  50. ,  50. ,  50. ,  13.8,  13.8,  15. ,  13.9,  13.3,\n",
       "         13.1,  10.2,  10.4,  10.9,  11.3,  12.3,   8.8,   7.2,  10.5,\n",
       "          7.4,  10.2,  11.5,  15.1,  23.2,   9.7,  13.8,  12.7,  13.1,\n",
       "         12.5,   8.5,   5. ,   6.3,   5.6,   7.2,  12.1,   8.3,   8.5,\n",
       "          5. ,  11.9,  27.9,  17.2,  27.5,  15. ,  17.2,  17.9,  16.3,\n",
       "          7. ,   7.2,   7.5,  10.4,   8.8,   8.4,  16.7,  14.2,  20.8,\n",
       "         13.4,  11.7,   8.3,  10.2,  10.9,  11. ,   9.5,  14.5,  14.1,\n",
       "         16.1,  14.3,  11.7,  13.4,   9.6,   8.7,   8.4,  12.8,  10.5,\n",
       "         17.1,  18.4,  15.4,  10.8,  11.8,  14.9,  12.6,  14.1,  13. ,\n",
       "         13.4,  15.2,  16.1,  17.8,  14.9,  14.1,  12.7,  13.5,  14.9,\n",
       "         20. ,  16.4,  17.7,  19.5,  20.2,  21.4,  19.9,  19. ,  19.1,\n",
       "         19.1,  20.1,  19.9,  19.6,  23.2,  29.8,  13.8,  13.3,  16.7,\n",
       "         12. ,  14.6,  21.4,  23. ,  23.7,  25. ,  21.8,  20.6,  21.2,\n",
       "         19.1,  20.6,  15.2,   7. ,   8.1,  13.6,  20.1,  21.8,  24.5,\n",
       "         23.1,  19.7,  18.3,  21.2,  17.5,  16.8,  22.4,  20.6,  23.9,\n",
       "         22. ,  11.9])}"
      ]
     },
     "execution_count": 41,
     "metadata": {},
     "output_type": "execute_result"
    }
   ],
   "source": [
    "data"
   ]
  },
  {
   "cell_type": "code",
   "execution_count": 219,
   "metadata": {
    "collapsed": false
   },
   "outputs": [],
   "source": [
    "y = data['target']"
   ]
  },
  {
   "cell_type": "code",
   "execution_count": 220,
   "metadata": {
    "collapsed": false
   },
   "outputs": [],
   "source": [
    "X = data['data']"
   ]
  },
  {
   "cell_type": "code",
   "execution_count": 28,
   "metadata": {
    "collapsed": true
   },
   "outputs": [],
   "source": [
    "X_train, X_test, y_train, y_test = train_test_split(X,y, test_size = 0.25, random_state = 0)"
   ]
  },
  {
   "cell_type": "code",
   "execution_count": 343,
   "metadata": {
    "collapsed": false
   },
   "outputs": [],
   "source": [
    "base_algorithms_list = []\n",
    "coefficients_list = [np.arange(0.05, 0.9, 0.05)]"
   ]
  },
  {
   "cell_type": "code",
   "execution_count": 284,
   "metadata": {
    "collapsed": true
   },
   "outputs": [],
   "source": [
    "def gbm_predict(X):\n",
    "    return [sum([coeff * algo.predict([x])[0] for algo, coeff in \n",
    "                 zip(base_algorithms_list, coefficients_list)]) for x in X]\n"
   ]
  },
  {
   "cell_type": "code",
   "execution_count": 344,
   "metadata": {
    "collapsed": false
   },
   "outputs": [],
   "source": [
    "algo = DecisionTreeRegressor(max_depth = 5, random_state = 42)\n",
    "algo.fit(X_train, y_train)\n",
    "base_algorithms_list.append(algo)"
   ]
  },
  {
   "cell_type": "code",
   "execution_count": 346,
   "metadata": {
    "collapsed": false
   },
   "outputs": [
    {
     "name": "stdout",
     "output_type": "stream",
     "text": [
      "[[ 29.3228442   26.53211513  26.53211513 ...,  26.53211513  23.18648056\n",
      "   38.16230261]\n",
      " [ 29.0307929   26.24006383  26.24006383 ...,  26.24006383  22.89442926\n",
      "   37.87025131]\n",
      " [ 28.75334416  25.96261509  25.96261509 ...,  25.96261509  22.61698053\n",
      "   37.59280258]\n",
      " ..., \n",
      " [ 24.00602008  21.21529101  21.21529101 ...,  21.21529101  17.86965644\n",
      "   32.84547849]\n",
      " [ 23.97980999  21.18908091  21.18908091 ...,  21.18908091  17.84344635\n",
      "   32.8192684 ]\n",
      " [ 23.9549104   21.16418132  21.16418132 ...,  21.16418132  17.81854676\n",
      "   32.79436881]]\n",
      "[[ 34.54902538  31.7582963   31.7582963  ...,  31.7582963   28.41266174\n",
      "   43.38848379]\n",
      " [ 33.44230466  30.65157558  30.65157558 ...,  30.65157558  27.30594102\n",
      "   42.28176307]\n",
      " [ 32.44625601  29.65552694  29.65552694 ...,  29.65552694  26.30989237\n",
      "   41.28571442]\n",
      " ..., \n",
      " [ 23.56005947  20.7693304   20.7693304  ...,  20.7693304   17.42369583\n",
      "   32.39951788]\n",
      " [ 23.55223534  20.76150627  20.76150627 ...,  20.76150627  17.4158717\n",
      "   32.39169375]\n",
      " [ 23.54519362  20.75446455  20.75446455 ...,  20.75446455  17.40882999\n",
      "   32.38465204]]\n",
      "[[ 39.16036171  36.36963263  36.36963263 ...,  36.36963263  33.02399807\n",
      "   47.99982012]\n",
      " [ 36.80858018  34.01785111  34.01785111 ...,  34.01785111  30.67221654\n",
      "   45.64803859]\n",
      " [ 34.80956588  32.01883681  32.01883681 ...,  32.01883681  28.67320224\n",
      "   43.64902429]\n",
      " ..., \n",
      " [ 23.48936902  20.69863995  20.69863995 ...,  20.69863995  17.35300538\n",
      "   32.32882743]\n",
      " [ 23.4882364   20.69750732  20.69750732 ...,  20.69750732  17.35187276\n",
      "   32.32769481]\n",
      " [ 23.48727366  20.69654459  20.69654459 ...,  20.69654459  17.35091003\n",
      "   32.32673208]]\n",
      "[[ 43.15685319  40.36612412  40.36612412 ...,  40.36612412  37.02048956\n",
      "   51.99631161]\n",
      " [ 39.22184619  36.43111712  36.43111712 ...,  36.43111712  33.08548255\n",
      "   48.06130461]\n",
      " [ 36.07384059  33.28311152  33.28311152 ...,  33.28311152  29.93747695\n",
      "   44.913299  ]\n",
      " ..., \n",
      " [ 23.48236664  20.69163757  20.69163757 ...,  20.69163757  17.34600301\n",
      "   32.32182506]\n",
      " [ 23.48225695  20.69152788  20.69152788 ...,  20.69152788  17.34589331\n",
      "   32.32171536]\n",
      " [ 23.4821692   20.69144012  20.69144012 ...,  20.69144012  17.34580556\n",
      "   32.32162761]]\n",
      "[[ 46.53849984  43.74777076  43.74777076 ...,  43.74777076  40.4021362\n",
      "   55.37795825]\n",
      " [ 40.77432942  37.98360035  37.98360035 ...,  37.98360035  34.63796579\n",
      "   49.61378784]\n",
      " [ 36.45120161  33.66047254  33.66047254 ...,  33.66047254  30.31483798\n",
      "   45.29066003]\n",
      " ..., \n",
      " [ 23.48184913  20.69112006  20.69112006 ...,  20.69112006  17.3454855\n",
      "   32.32130755]\n",
      " [ 23.4818414   20.69111232  20.69111232 ...,  20.69111232  17.34547776\n",
      "   32.32129981]\n",
      " [ 23.48183559  20.69110652  20.69110652 ...,  20.69110652  17.34547196\n",
      "   32.32129401]]\n",
      "[[ 49.30530163  46.51457256  46.51457256 ...,  46.51457256  43.168938\n",
      "   58.14476005]\n",
      " [ 41.5582566   38.76752753  38.76752753 ...,  38.76752753  35.42189296\n",
      "   50.39771501]\n",
      " [ 36.13532507  33.344596    33.344596   ...,  33.344596    29.99896144\n",
      "   44.97478349]\n",
      " ..., \n",
      " [ 23.48181954  20.69109046  20.69109046 ...,  20.69109046  17.3454559\n",
      "   32.32127795]\n",
      " [ 23.48181913  20.69109006  20.69109006 ...,  20.69109006  17.34545549\n",
      "   32.32127754]\n",
      " [ 23.48181885  20.69108977  20.69108977 ...,  20.69108977  17.34545521\n",
      "   32.32127726]]\n",
      "[[ 51.45725859  48.66652952  48.66652952 ...,  48.66652952  45.32089495\n",
      "   60.296717  ]\n",
      " [ 41.66585445  38.87512537  38.87512537 ...,  38.87512537  35.52949081\n",
      "   50.50531286]\n",
      " [ 35.30144175  32.51071268  32.51071268 ...,  32.51071268  29.16507812\n",
      "   44.14090017]\n",
      " ..., \n",
      " [ 23.48181823  20.69108915  20.69108915 ...,  20.69108915  17.34545459\n",
      "   32.32127664]\n",
      " [ 23.48181821  20.69108914  20.69108914 ...,  20.69108914  17.34545457\n",
      "   32.32127663]\n",
      " [ 23.4818182   20.69108913  20.69108913 ...,  20.69108913  17.34545456\n",
      "   32.32127661]]\n",
      "[[ 52.9943707   50.20364163  50.20364163 ...,  50.20364163  46.85800706\n",
      "   61.83382911]\n",
      " [ 41.18934969  38.39862062  38.39862062 ...,  38.39862062  35.05298606\n",
      "   50.02880811]\n",
      " [ 34.10633709  31.31560802  31.31560802 ...,  31.31560802  27.96997345\n",
      "   42.9457955 ]\n",
      " ..., \n",
      " [ 23.48181818  20.69108911  20.69108911 ...,  20.69108911  17.34545455\n",
      "   32.3212766 ]\n",
      " [ 23.48181818  20.69108911  20.69108911 ...,  20.69108911  17.34545455\n",
      "   32.3212766 ]\n",
      " [ 23.48181818  20.69108911  20.69108911 ...,  20.69108911  17.34545455\n",
      "   32.3212766 ]]\n",
      "[[ 53.91663797  51.12590889  51.12590889 ...,  51.12590889  47.78027433\n",
      "   62.75609638]\n",
      " [ 40.22096906  37.43023999  37.43023999 ...,  37.43023999  34.08460543\n",
      "   49.06042748]\n",
      " [ 32.68835117  29.89762209  29.89762209 ...,  29.89762209  26.55198753\n",
      "   41.52780958]\n",
      " ..., \n",
      " [ 23.48181818  20.69108911  20.69108911 ...,  20.69108911  17.34545455\n",
      "   32.3212766 ]\n",
      " [ 23.48181818  20.69108911  20.69108911 ...,  20.69108911  17.34545455\n",
      "   32.3212766 ]\n",
      " [ 23.48181818  20.69108911  20.69108911 ...,  20.69108911  17.34545455\n",
      "   32.3212766 ]]\n",
      "[[ 54.22406039  51.43333131  51.43333131 ...,  51.43333131  48.08769675\n",
      "   63.0635188 ]\n",
      " [ 38.85293928  36.06221021  36.06221021 ...,  36.06221021  32.71657565\n",
      "   47.6923977 ]\n",
      " [ 31.16737873  28.37664966  28.37664966 ...,  28.37664966  25.0310151\n",
      "   40.00683715]\n",
      " ..., \n",
      " [ 23.48181818  20.69108911  20.69108911 ...,  20.69108911  17.34545455\n",
      "   32.3212766 ]\n",
      " [ 23.48181818  20.69108911  20.69108911 ...,  20.69108911  17.34545455\n",
      "   32.3212766 ]\n",
      " [ 23.48181818  20.69108911  20.69108911 ...,  20.69108911  17.34545455\n",
      "   32.3212766 ]]\n",
      "[[ 53.91663797  51.12590889  51.12590889 ...,  51.12590889  47.78027433\n",
      "   62.75609638]\n",
      " [ 37.17748708  34.38675801  34.38675801 ...,  34.38675801  31.04112345\n",
      "   46.0169455 ]\n",
      " [ 29.64486919  26.85414012  26.85414012 ...,  26.85414012  23.50850555\n",
      "   38.4843276 ]\n",
      " ..., \n",
      " [ 23.48181818  20.69108911  20.69108911 ...,  20.69108911  17.34545455\n",
      "   32.3212766 ]\n",
      " [ 23.48181818  20.69108911  20.69108911 ...,  20.69108911  17.34545455\n",
      "   32.3212766 ]\n",
      " [ 23.48181818  20.69108911  20.69108911 ...,  20.69108911  17.34545455\n",
      "   32.3212766 ]]\n",
      "[[ 52.9943707   50.20364163  50.20364163 ...,  50.20364163  46.85800706\n",
      "   61.83382911]\n",
      " [ 35.28683919  32.49611012  32.49611012 ...,  32.49611012  29.15047555\n",
      "   44.1262976 ]\n",
      " [ 28.20382658  25.41309751  25.41309751 ...,  25.41309751  22.06746295\n",
      "   37.043285  ]\n",
      " ..., \n",
      " [ 23.48181818  20.69108911  20.69108911 ...,  20.69108911  17.34545455\n",
      "   32.3212766 ]\n",
      " [ 23.48181818  20.69108911  20.69108911 ...,  20.69108911  17.34545455\n",
      "   32.3212766 ]\n",
      " [ 23.48181818  20.69108911  20.69108911 ...,  20.69108911  17.34545455\n",
      "   32.3212766 ]]\n",
      "[[ 51.45725859  48.66652952  48.66652952 ...,  48.66652952  45.32089495\n",
      "   60.296717  ]\n",
      " [ 33.27322232  30.48249325  30.48249325 ...,  30.48249325  27.13685869\n",
      "   42.11268074]\n",
      " [ 26.90880963  24.11808056  24.11808056 ...,  24.11808056  20.772446\n",
      "   35.74826805]\n",
      " ..., \n",
      " [ 23.48181818  20.69108911  20.69108911 ...,  20.69108911  17.34545455\n",
      "   32.3212766 ]\n",
      " [ 23.48181818  20.69108911  20.69108911 ...,  20.69108911  17.34545455\n",
      "   32.3212766 ]\n",
      " [ 23.48181818  20.69108911  20.69108911 ...,  20.69108911  17.34545455\n",
      "   32.3212766 ]]\n",
      "[[ 49.30530163  46.51457256  46.51457256 ...,  46.51457256  43.168938\n",
      "   58.14476005]\n",
      " [ 31.22886322  28.43813414  28.43813414 ...,  28.43813414  25.09249958\n",
      "   40.06832163]\n",
      " [ 25.80593169  23.01520262  23.01520262 ...,  23.01520262  19.66956806\n",
      "   34.64539011]\n",
      " ..., \n",
      " [ 23.48181818  20.69108911  20.69108911 ...,  20.69108911  17.34545455\n",
      "   32.3212766 ]\n",
      " [ 23.48181818  20.69108911  20.69108911 ...,  20.69108911  17.34545455\n",
      "   32.3212766 ]\n",
      " [ 23.48181818  20.69108911  20.69108911 ...,  20.69108911  17.34545455\n",
      "   32.3212766 ]]\n",
      "[[ 46.53849984  43.74777076  43.74777076 ...,  43.74777076  40.4021362\n",
      "   55.37795825]\n",
      " [ 29.2459886   26.45525952  26.45525952 ...,  26.45525952  23.10962496\n",
      "   38.08544701]\n",
      " [ 24.92286079  22.13213171  22.13213171 ...,  22.13213171  18.78649715\n",
      "   33.7623192 ]\n",
      " ..., \n",
      " [ 23.48181818  20.69108911  20.69108911 ...,  20.69108911  17.34545455\n",
      "   32.3212766 ]\n",
      " [ 23.48181818  20.69108911  20.69108911 ...,  20.69108911  17.34545455\n",
      "   32.3212766 ]\n",
      " [ 23.48181818  20.69108911  20.69108911 ...,  20.69108911  17.34545455\n",
      "   32.3212766 ]]\n",
      "[[ 43.15685319  40.36612412  40.36612412 ...,  40.36612412  37.02048956\n",
      "   51.99631161]\n",
      " [ 27.41682518  24.62609611  24.62609611 ...,  24.62609611  21.28046155\n",
      "   36.2562836 ]\n",
      " [ 24.26881958  21.47809051  21.47809051 ...,  21.47809051  18.13245595\n",
      "   33.108278  ]\n",
      " ..., \n",
      " [ 23.48181818  20.69108911  20.69108911 ...,  20.69108911  17.34545455\n",
      "   32.3212766 ]\n",
      " [ 23.48181818  20.69108911  20.69108911 ...,  20.69108911  17.34545455\n",
      "   32.3212766 ]\n",
      " [ 23.48181818  20.69108911  20.69108911 ...,  20.69108911  17.34545455\n",
      "   32.3212766 ]]\n",
      "[[ 39.16036171  36.36963263  36.36963263 ...,  36.36963263  33.02399807\n",
      "   47.99982012]\n",
      " [ 25.83359971  23.04287064  23.04287064 ...,  23.04287064  19.69723607\n",
      "   34.67305812]\n",
      " [ 23.83458541  21.04385634  21.04385634 ...,  21.04385634  17.69822177\n",
      "   32.67404383]\n",
      " ..., \n",
      " [ 23.48181818  20.69108911  20.69108911 ...,  20.69108911  17.34545455\n",
      "   32.3212766 ]\n",
      " [ 23.48181818  20.69108911  20.69108911 ...,  20.69108911  17.34545455\n",
      "   32.3212766 ]\n",
      " [ 23.48181818  20.69108911  20.69108911 ...,  20.69108911  17.34545455\n",
      "   32.3212766 ]]\n"
     ]
    },
    {
     "data": {
      "image/png": "[encoded data removed]",
      "text/plain": [
       "<matplotlib.figure.Figure at 0xb3ffbe0>"
      ]
     },
     "metadata": {},
     "output_type": "display_data"
    }
   ],
   "source": [
    "for coeff in np.arange(0.05, 0.9, 0.05):\n",
    "    a = algo.predict(X_train)\n",
    "    m = [] \n",
    "    a_s = [a]\n",
    "    base_algorithms_list.append(algo)\n",
    "    for i in np.arange(50):\n",
    "        algo_1 = coeff*(y_train-a) \n",
    "        base_algorithms_list.append(algo_1)\n",
    "        a = a + algo_1\n",
    "        a_s.append([a])\n",
    "        m.append([mean_squared_error(y_train, a)])\n",
    "    plt.plot(np.arange(50), m)\n",
    "    \n",
    "    b = algo.predict(X_test) \n",
    "    b_s = [b]\n",
    "    #base_algorithms_list = []\n",
    "    #base_algorithms_list.append(a)\n",
    "    for i in np.arange(50):\n",
    "        algo_2 = coeff*sqrt(m) \n",
    "        #base_algorithms_list.append(algo_1)\n",
    "        b = b + algo_2\n",
    "        b_s.append(b)\n",
    "    print b"
   ]
  },
  {
   "cell_type": "code",
   "execution_count": 409,
   "metadata": {
    "collapsed": false
   },
   "outputs": [],
   "source": [
    "def gbt_fit(X,y, estimator = DecisionTreeRegressor(max_depth = 5, random_state = 42),\n",
    "            coeff = 0.9, n_trees = 50):\n",
    "    e = estimator.fit(X, y)\n",
    "    a = e.predict(X) \n",
    "    m = [] \n",
    "    a_s = [a]\n",
    "    base_algorithms_list = []\n",
    "    base_algorithms_list.append(a)\n",
    "    for i in np.arange(n_trees):\n",
    "        algo_1 = coeff*(y-a) \n",
    "        base_algorithms_list.append(algo_1)\n",
    "        a = a + algo_1\n",
    "        a_s.append(a)\n",
    "        m.append(mean_squared_error(y, a))\n",
    "    return e, m"
   ]
  },
  {
   "cell_type": "code",
   "execution_count": 410,
   "metadata": {
    "collapsed": false
   },
   "outputs": [],
   "source": [
    "e, m = gbt_fit(X_train, y_train)"
   ]
  },
  {
   "cell_type": "code",
   "execution_count": 411,
   "metadata": {
    "collapsed": false
   },
   "outputs": [],
   "source": [
    "def gbt_predict(X, e, m, coeff = 0.9, n_trees = 50, ):\n",
    "    b = e.predict(X) \n",
    "    b_s = [b]\n",
    "    #base_algorithms_list = []\n",
    "    #base_algorithms_list.append(a)\n",
    "    for i in np.arange(n_trees):\n",
    "        algo_2 = coeff*sqrt(m[i]) \n",
    "        #base_algorithms_list.append(algo_1)\n",
    "        b = b + algo_2\n",
    "        b_s.append(b)\n",
    "    return b_s"
   ]
  },
  {
   "cell_type": "code",
   "execution_count": 412,
   "metadata": {
    "collapsed": false
   },
   "outputs": [],
   "source": [
    "p = gbt_predict(X_test, e, m)"
   ]
  },
  {
   "cell_type": "code",
   "execution_count": 413,
   "metadata": {
    "collapsed": false
   },
   "outputs": [
    {
     "data": {
      "text/plain": [
       "[<matplotlib.lines.Line2D at 0x10a31908>]"
      ]
     },
     "execution_count": 413,
     "metadata": {},
     "output_type": "execute_result"
    },
    {
     "data": {
      "image/png": "[encoded data removed]",
      "text/plain": [
       "<matplotlib.figure.Figure at 0x10684940>"
      ]
     },
     "metadata": {},
     "output_type": "display_data"
    }
   ],
   "source": [
    "mse = []\n",
    "for i in np.arange(50):\n",
    "    mse.append(mean_squared_error(y_test, p[i]))\n",
    "plt.plot(np.arange(50), mse)"
   ]
  },
  {
   "cell_type": "code",
   "execution_count": 414,
   "metadata": {
    "collapsed": false
   },
   "outputs": [
    {
     "data": {
      "text/plain": [
       "15"
      ]
     },
     "execution_count": 414,
     "metadata": {},
     "output_type": "execute_result"
    }
   ],
   "source": [
    "mse.index(min(mse))"
   ]
  },
  {
   "cell_type": "code",
   "execution_count": 415,
   "metadata": {
    "collapsed": false,
    "scrolled": true
   },
   "outputs": [
    {
     "data": {
      "text/plain": [
       "array([[ 28.18538124,  25.39465217,  25.39465217, ...,  25.39465217,\n",
       "         22.0490176 ,  37.02483965],\n",
       "       [ 24.18735264,  21.39662357,  21.39662357, ...,  21.39662357,\n",
       "         18.050989  ,  33.02681105],\n",
       "       [ 23.58764835,  20.79691928,  20.79691928, ...,  20.79691928,\n",
       "         17.45128471,  32.42710676],\n",
       "       ..., \n",
       "       [ 23.48181818,  20.69108911,  20.69108911, ...,  20.69108911,\n",
       "         17.34545455,  32.3212766 ],\n",
       "       [ 23.48181818,  20.69108911,  20.69108911, ...,  20.69108911,\n",
       "         17.34545455,  32.3212766 ],\n",
       "       [ 23.48181818,  20.69108911,  20.69108911, ...,  20.69108911,\n",
       "         17.34545455,  32.3212766 ]])"
      ]
     },
     "execution_count": 415,
     "metadata": {},
     "output_type": "execute_result"
    }
   ],
   "source": [
    "b_s[15]"
   ]
  },
  {
   "cell_type": "code",
   "execution_count": 426,
   "metadata": {
    "collapsed": true
   },
   "outputs": [],
   "source": [
    "estimator = xgb.XGBRegressor()"
   ]
  },
  {
   "cell_type": "code",
   "execution_count": 427,
   "metadata": {
    "collapsed": false
   },
   "outputs": [
    {
     "data": {
      "text/plain": [
       "XGBRegressor(base_score=0.5, colsample_bylevel=1, colsample_bytree=1, gamma=0,\n",
       "       learning_rate=0.1, max_delta_step=0, max_depth=3,\n",
       "       min_child_weight=1, missing=None, n_estimators=100, nthread=-1,\n",
       "       objective='reg:linear', reg_alpha=0, reg_lambda=1,\n",
       "       scale_pos_weight=1, seed=0, silent=True, subsample=1)"
      ]
     },
     "execution_count": 427,
     "metadata": {},
     "output_type": "execute_result"
    }
   ],
   "source": [
    "estimator.fit(X_train, y_train)"
   ]
  },
  {
   "cell_type": "code",
   "execution_count": 428,
   "metadata": {
    "collapsed": false
   },
   "outputs": [
    {
     "data": {
      "text/plain": [
       "17.467962377911512"
      ]
     },
     "execution_count": 428,
     "metadata": {},
     "output_type": "execute_result"
    }
   ],
   "source": [
    "mean_squared_error(y_test, estimator.predict(X_test))"
   ]
  },
  {
   "cell_type": "code",
   "execution_count": 429,
   "metadata": {
    "collapsed": false
   },
   "outputs": [
    {
     "data": {
      "text/plain": [
       "29.790559164237649"
      ]
     },
     "execution_count": 429,
     "metadata": {},
     "output_type": "execute_result"
    }
   ],
   "source": [
    "from sklearn.linear_model import LinearRegression\n",
    "regressor = LinearRegression()\n",
    "regressor.fit(X_train, y_train)\n",
    "mean_squared_error(y_test, regressor.predict(X_test))"
   ]
  },
  {
   "cell_type": "code",
   "execution_count": null,
   "metadata": {
    "collapsed": true
   },
   "outputs": [],
   "source": []
  }
 ],
 "metadata": {
  "kernelspec": {
   "display_name": "Python 2",
   "language": "python",
   "name": "python2"
  },
  "language_info": {
   "codemirror_mode": {
    "name": "ipython",
    "version": 2
   },
   "file_extension": ".py",
   "mimetype": "text/x-python",
   "name": "python",
   "nbconvert_exporter": "python",
   "pygments_lexer": "ipython2",
   "version": "2.7.12"
  }
 },
 "nbformat": 4,
 "nbformat_minor": 0
}
